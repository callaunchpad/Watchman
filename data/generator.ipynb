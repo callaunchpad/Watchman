{
 "cells": [
  {
   "cell_type": "code",
   "execution_count": null,
   "metadata": {},
   "outputs": [],
   "source": [
    "class DataGenerator(tf.keras.utils.Sequence):\n",
    "    def __init__(self, df, batch_size=32, shuffle=True):\n",
    "        \"\"\"\n",
    "        Directory contains an \"images\" folder and a \"outputs\" folder.\n",
    "        each image has name formatted like \"00000001.jpg\"\n",
    "        each label has name formatted like \"output00000001.csv\"\n",
    "        \"\"\"\n",
    "        self.batch_size = batch_size\n",
    "        self.df = df\n",
    "        self.indices = range(len(df))\n",
    "        self.shuffle = shuffle\n",
    "        self.on_epoch_end()\n",
    "\n",
    "    def __len__(self):\n",
    "        return len(self.df) // self.batch_size\n",
    "\n",
    "    def __getitem__(self, index):\n",
    "        indices = self.indices[index * self.batch_size:(index + 1) * self.batch_size]\n",
    "        \n",
    "        return self.get_data(indices)\n",
    "\n",
    "    def on_epoch_end(self):\n",
    "        if self.shuffle:\n",
    "            self.df = self.df.sample(frac=1).reset_index(drop=True)\n",
    "    \n",
    "    def get_index(self, idx):\n",
    "        row = df.iloc[idx]\n",
    "        X = np.array(Image.open(row.image)) / 255.0\n",
    "        y = pd.read_csv(row.label).values[:, 1:].flatten()\n",
    "        \n",
    "        return X, y\n",
    "    \n",
    "    def get_data(self, indices):\n",
    "        X = np.empty((len(indices), HEIGHT, WIDTH, 3))\n",
    "        y = np.empty((len(indices), 36))\n",
    "        \n",
    "        for i, index in enumerate(indices):\n",
    "            X[i], y[i] = get_index(index)\n",
    "\n",
    "        return X, y\n",
    "    \n",
    "    @staticmethod\n",
    "    def gen_df(directory):\n",
    "        images, labels = [], []\n",
    "        for image in glob(os.path.join(directory, 'images/*')):\n",
    "            images.append(image)\n",
    "            num = os.path.basename(image).split('.jpg')[0]\n",
    "            labels.append(os.path.join(directory, f'labels/{num}.csv'))\n",
    "        return pd.DataFrame({'image': images, 'label': labels})\n",
    "    \n",
    "    @staticmethod\n",
    "    def splits(df, train_size=0.5):\n",
    "        train, test = train_test_split(df, train_size=train_size)\n",
    "        return DataGenerator(train), DataGenerator(test)"
   ]
  }
 ],
 "metadata": {
  "kernelspec": {
   "display_name": "base",
   "language": "python",
   "name": "base"
  },
  "language_info": {
   "codemirror_mode": {
    "name": "ipython",
    "version": 3
   },
   "file_extension": ".py",
   "mimetype": "text/x-python",
   "name": "python",
   "nbconvert_exporter": "python",
   "pygments_lexer": "ipython3",
   "version": "3.7.4"
  }
 },
 "nbformat": 4,
 "nbformat_minor": 2
}
