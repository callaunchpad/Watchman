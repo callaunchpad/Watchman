{
 "cells": [
  {
   "cell_type": "code",
   "execution_count": 1,
   "metadata": {},
   "outputs": [],
   "source": [
    "from glob import glob\n",
    "import pandas as pd\n",
    "import numpy as np\n",
    "import re\n",
    "import cv2\n",
    "from tqdm import tqdm"
   ]
  },
  {
   "cell_type": "code",
   "execution_count": 2,
   "metadata": {
    "scrolled": true
   },
   "outputs": [],
   "source": [
    "outputs = glob('outputs/*')\n",
    "# frames = glob('cam1/*')\n",
    "frame_nums = []\n",
    "\n",
    "for i in outputs:\n",
    "    frame_nums.append(re.findall(\"\\d+\", i)[0])\n",
    "    \n",
    "table = pd.DataFrame(frame_nums, columns=['frame_num'])\n",
    "table['output'] = pd.Series(outputs)\n",
    "table['raw'] = 'cam1/' + table['frame_num'] + '.jpg'\n",
    "table['frame_num'] = table['frame_num'].astype(int)\n",
    "table['homo'] = table['raw'].str.replace('cam1', 'images')\n",
    "table['label'] = table['raw'].str.replace('cam1', 'labels')\n",
    "\n",
    "table.sort_values('frame_num').reset_index(drop=True)\n",
    "\n",
    "table.sort_values('frame_num', inplace=True)\n",
    "table.reset_index(drop=True, inplace=True)\n",
    "\n",
    "pd.to_pickle(table, 'table.pkl')"
   ]
  },
  {
   "cell_type": "code",
   "execution_count": 3,
   "metadata": {},
   "outputs": [
    {
     "name": "stderr",
     "output_type": "stream",
     "text": [
      "100%|██████████| 1633/1633 [00:34<00:00, 46.84it/s]\n"
     ]
    }
   ],
   "source": [
    "pts_src1 = np.array([[614, 294], [581, 326],[503, 407], [313, 348], [478, 345]])\n",
    "pts_dst = np.array([[650, 550], [600, 550], [500, 550],[500, 400], [550, 500]]) #these are the zoomed out destination points\n",
    "homo = cv2.findHomography(pts_src1, pts_dst)[0]\n",
    "\n",
    "y = np.empty((len(table), 17, 2))\n",
    "\n",
    "for i, row in tqdm(table.iterrows(), total=len(table)):\n",
    "    undis = cv2.imread(row.raw)\n",
    "    transformed = cv2.warpPerspective(undis, homo, (undis.shape[1], undis.shape[0]))\n",
    "    cv2.imwrite(row.homo, transformed)\n",
    "    \n",
    "    points = pd.read_csv(table.iloc[0].output).values[:, 1:]\n",
    "    points = cv2.perspectiveTransform(points.reshape(-1, 1, 2).astype(np.float32), homo)\n",
    "    points /= transformed.shape[:2] #scale to the dimensions of the image\n",
    "    y[i] = points.reshape(17, 2)\n",
    "    \n",
    "    with open(row.label, 'w') as f:\n",
    "        for xcoord, ycoord in y[i]:\n",
    "            f.write(f'0 {xcoord} {ycoord} 0 0')\n",
    "    \n",
    "np.save('y.npy', y)"
   ]
  },
  {
   "cell_type": "code",
   "execution_count": 6,
   "metadata": {},
   "outputs": [
    {
     "data": {
      "text/html": [
       "<div>\n",
       "<style scoped>\n",
       "    .dataframe tbody tr th:only-of-type {\n",
       "        vertical-align: middle;\n",
       "    }\n",
       "\n",
       "    .dataframe tbody tr th {\n",
       "        vertical-align: top;\n",
       "    }\n",
       "\n",
       "    .dataframe thead th {\n",
       "        text-align: right;\n",
       "    }\n",
       "</style>\n",
       "<table border=\"1\" class=\"dataframe\">\n",
       "  <thead>\n",
       "    <tr style=\"text-align: right;\">\n",
       "      <th></th>\n",
       "      <th>frame_num</th>\n",
       "      <th>output</th>\n",
       "      <th>raw</th>\n",
       "      <th>homo</th>\n",
       "      <th>label</th>\n",
       "    </tr>\n",
       "  </thead>\n",
       "  <tbody>\n",
       "    <tr>\n",
       "      <td>1602</td>\n",
       "      <td>28400</td>\n",
       "      <td>outputs/output00028400.csv</td>\n",
       "      <td>cam1/00028400.jpg</td>\n",
       "      <td>images/00028400.jpg</td>\n",
       "      <td>labels/00028400.jpg</td>\n",
       "    </tr>\n",
       "    <tr>\n",
       "      <td>8</td>\n",
       "      <td>49</td>\n",
       "      <td>outputs/output00000049.csv</td>\n",
       "      <td>cam1/00000049.jpg</td>\n",
       "      <td>images/00000049.jpg</td>\n",
       "      <td>labels/00000049.jpg</td>\n",
       "    </tr>\n",
       "    <tr>\n",
       "      <td>711</td>\n",
       "      <td>10580</td>\n",
       "      <td>outputs/output00010580.csv</td>\n",
       "      <td>cam1/00010580.jpg</td>\n",
       "      <td>images/00010580.jpg</td>\n",
       "      <td>labels/00010580.jpg</td>\n",
       "    </tr>\n",
       "    <tr>\n",
       "      <td>788</td>\n",
       "      <td>12120</td>\n",
       "      <td>outputs/output00012120.csv</td>\n",
       "      <td>cam1/00012120.jpg</td>\n",
       "      <td>images/00012120.jpg</td>\n",
       "      <td>labels/00012120.jpg</td>\n",
       "    </tr>\n",
       "    <tr>\n",
       "      <td>1529</td>\n",
       "      <td>26940</td>\n",
       "      <td>outputs/output00026940.csv</td>\n",
       "      <td>cam1/00026940.jpg</td>\n",
       "      <td>images/00026940.jpg</td>\n",
       "      <td>labels/00026940.jpg</td>\n",
       "    </tr>\n",
       "    <tr>\n",
       "      <td>...</td>\n",
       "      <td>...</td>\n",
       "      <td>...</td>\n",
       "      <td>...</td>\n",
       "      <td>...</td>\n",
       "      <td>...</td>\n",
       "    </tr>\n",
       "    <tr>\n",
       "      <td>649</td>\n",
       "      <td>9340</td>\n",
       "      <td>outputs/output00009340.csv</td>\n",
       "      <td>cam1/00009340.jpg</td>\n",
       "      <td>images/00009340.jpg</td>\n",
       "      <td>labels/00009340.jpg</td>\n",
       "    </tr>\n",
       "    <tr>\n",
       "      <td>244</td>\n",
       "      <td>1240</td>\n",
       "      <td>outputs/output00001240.csv</td>\n",
       "      <td>cam1/00001240.jpg</td>\n",
       "      <td>images/00001240.jpg</td>\n",
       "      <td>labels/00001240.jpg</td>\n",
       "    </tr>\n",
       "    <tr>\n",
       "      <td>1482</td>\n",
       "      <td>26000</td>\n",
       "      <td>outputs/output00026000.csv</td>\n",
       "      <td>cam1/00026000.jpg</td>\n",
       "      <td>images/00026000.jpg</td>\n",
       "      <td>labels/00026000.jpg</td>\n",
       "    </tr>\n",
       "    <tr>\n",
       "      <td>1632</td>\n",
       "      <td>29000</td>\n",
       "      <td>outputs/output00029000.csv</td>\n",
       "      <td>cam1/00029000.jpg</td>\n",
       "      <td>images/00029000.jpg</td>\n",
       "      <td>labels/00029000.jpg</td>\n",
       "    </tr>\n",
       "    <tr>\n",
       "      <td>881</td>\n",
       "      <td>13980</td>\n",
       "      <td>outputs/output00013980.csv</td>\n",
       "      <td>cam1/00013980.jpg</td>\n",
       "      <td>images/00013980.jpg</td>\n",
       "      <td>labels/00013980.jpg</td>\n",
       "    </tr>\n",
       "  </tbody>\n",
       "</table>\n",
       "<p>1633 rows × 5 columns</p>\n",
       "</div>"
      ],
      "text/plain": [
       "      frame_num                      output                raw  \\\n",
       "1602      28400  outputs/output00028400.csv  cam1/00028400.jpg   \n",
       "8            49  outputs/output00000049.csv  cam1/00000049.jpg   \n",
       "711       10580  outputs/output00010580.csv  cam1/00010580.jpg   \n",
       "788       12120  outputs/output00012120.csv  cam1/00012120.jpg   \n",
       "1529      26940  outputs/output00026940.csv  cam1/00026940.jpg   \n",
       "...         ...                         ...                ...   \n",
       "649        9340  outputs/output00009340.csv  cam1/00009340.jpg   \n",
       "244        1240  outputs/output00001240.csv  cam1/00001240.jpg   \n",
       "1482      26000  outputs/output00026000.csv  cam1/00026000.jpg   \n",
       "1632      29000  outputs/output00029000.csv  cam1/00029000.jpg   \n",
       "881       13980  outputs/output00013980.csv  cam1/00013980.jpg   \n",
       "\n",
       "                     homo                label  \n",
       "1602  images/00028400.jpg  labels/00028400.jpg  \n",
       "8     images/00000049.jpg  labels/00000049.jpg  \n",
       "711   images/00010580.jpg  labels/00010580.jpg  \n",
       "788   images/00012120.jpg  labels/00012120.jpg  \n",
       "1529  images/00026940.jpg  labels/00026940.jpg  \n",
       "...                   ...                  ...  \n",
       "649   images/00009340.jpg  labels/00009340.jpg  \n",
       "244   images/00001240.jpg  labels/00001240.jpg  \n",
       "1482  images/00026000.jpg  labels/00026000.jpg  \n",
       "1632  images/00029000.jpg  labels/00029000.jpg  \n",
       "881   images/00013980.jpg  labels/00013980.jpg  \n",
       "\n",
       "[1633 rows x 5 columns]"
      ]
     },
     "execution_count": 6,
     "metadata": {},
     "output_type": "execute_result"
    }
   ],
   "source": [
    "a = table.sample(frac=1)\n",
    "a"
   ]
  },
  {
   "cell_type": "code",
   "execution_count": 19,
   "metadata": {},
   "outputs": [
    {
     "data": {
      "text/plain": [
       "numpy.int64"
      ]
     },
     "execution_count": 19,
     "metadata": {},
     "output_type": "execute_result"
    }
   ],
   "source": [
    "type(a.iloc[0]._name)"
   ]
  },
  {
   "cell_type": "code",
   "execution_count": null,
   "metadata": {},
   "outputs": [],
   "source": []
  }
 ],
 "metadata": {
  "kernelspec": {
   "display_name": "Python 3",
   "language": "python",
   "name": "python3"
  },
  "language_info": {
   "codemirror_mode": {
    "name": "ipython",
    "version": 3
   },
   "file_extension": ".py",
   "mimetype": "text/x-python",
   "name": "python",
   "nbconvert_exporter": "python",
   "pygments_lexer": "ipython3",
   "version": "3.7.4"
  }
 },
 "nbformat": 4,
 "nbformat_minor": 4
}
