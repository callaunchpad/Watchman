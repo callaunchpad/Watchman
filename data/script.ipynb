{
 "cells": [
  {
   "cell_type": "code",
   "execution_count": 1,
   "metadata": {},
   "outputs": [],
   "source": [
    "from glob import glob\n",
    "import pandas as pd\n",
    "import numpy as np\n",
    "import re\n",
    "import cv2\n",
    "from tqdm import tqdm"
   ]
  },
  {
   "cell_type": "code",
   "execution_count": 2,
   "metadata": {
    "scrolled": true
   },
   "outputs": [],
   "source": [
    "outputs = glob('outputs/*')\n",
    "# frames = glob('cam1/*')\n",
    "frame_nums = []\n",
    "\n",
    "for i in outputs:\n",
    "    frame_nums.append(re.findall(\"\\d+\", i)[0])\n",
    "    \n",
    "table = pd.DataFrame(frame_nums, columns=['frame_num'])\n",
    "table['output'] = pd.Series(outputs)\n",
    "table['raw'] = 'cam1/' + table['frame_num'] + '.jpg'\n",
    "table['frame_num'] = table['frame_num'].astype(int)\n",
    "table['homo'] = table['raw'].str.replace('cam1', 'images')\n",
    "table['label'] = table['raw'].str.replace('.jpg', '.txt').str.replace('cam1', 'labels')\n",
    "\n",
    "table.sort_values('frame_num').reset_index(drop=True)\n",
    "\n",
    "table.sort_values('frame_num', inplace=True)\n",
    "table.reset_index(drop=True, inplace=True)\n",
    "\n",
    "pd.to_pickle(table, 'table.pkl')"
   ]
  },
  {
   "cell_type": "code",
   "execution_count": 4,
   "metadata": {},
   "outputs": [
    {
     "name": "stderr",
     "output_type": "stream",
     "text": [
      "100%|██████████| 1633/1633 [00:44<00:00, 36.59it/s]\n"
     ]
    }
   ],
   "source": [
    "pts_src1 = np.array([[614, 294], [581, 326],[503, 407], [313, 348], [478, 345]])\n",
    "pts_dst = np.array([[650, 550], [600, 550], [500, 550],[500, 400], [550, 500]]) #these are the zoomed out destination points\n",
    "homo = cv2.findHomography(pts_src1, pts_dst)[0]\n",
    "\n",
    "#y = np.empty((len(table), 17, 2))\n",
    "BBOX = 50 #size of square bounding box around each foot\n",
    "\n",
    "for i, row in tqdm(table.iterrows(), total=len(table)):\n",
    "    undis = cv2.imread(row.raw)\n",
    "    transformed = cv2.warpPerspective(undis, homo, (undis.shape[1], undis.shape[0]))\n",
    "    cv2.imwrite(row.homo, transformed)\n",
    "    \n",
    "    points = pd.read_csv(table.iloc[i].output).values[:, 1:]\n",
    "    points = cv2.perspectiveTransform(points.reshape(-1, 1, 2).astype(np.float32), homo)\n",
    "    points = points.reshape(-1, 2)\n",
    "    \n",
    "    height, width = transformed.shape[:2]\n",
    "    bbox_height, bbox_width = BBOX/height, BBOX/width\n",
    "    \n",
    "    with open(row.label, 'w') as f:\n",
    "        for xcoord, ycoord in y[i]:\n",
    "            f.write(f'0 {(xcoord - BBOX/2)/width} {(ycoord - BBOX/2)/height} {bbox_width} {bbox_height}\\n')\n",
    "    \n",
    "#np.save('y.npy', y)"
   ]
  },
  {
   "cell_type": "code",
   "execution_count": 7,
   "metadata": {},
   "outputs": [],
   "source": [
    "from sklearn.model_selection import train_test_split"
   ]
  },
  {
   "cell_type": "code",
   "execution_count": 13,
   "metadata": {},
   "outputs": [],
   "source": [
    "train, test = train_test_split(table, train_size=0.9)\n",
    "\n",
    "with open('test.txt', 'w') as f:\n",
    "    for i, row in test.iterrows():\n",
    "        f.write(row.homo + '\\n')\n",
    "        \n",
    "with open('train.txt', 'w') as f:\n",
    "    for i, row in train.iterrows():\n",
    "        f.write(row.homo + '\\n')"
   ]
  },
  {
   "cell_type": "code",
   "execution_count": null,
   "metadata": {},
   "outputs": [],
   "source": []
  }
 ],
 "metadata": {
  "kernelspec": {
   "display_name": "Python 3",
   "language": "python",
   "name": "python3"
  },
  "language_info": {
   "codemirror_mode": {
    "name": "ipython",
    "version": 3
   },
   "file_extension": ".py",
   "mimetype": "text/x-python",
   "name": "python",
   "nbconvert_exporter": "python",
   "pygments_lexer": "ipython3",
   "version": "3.7.4"
  }
 },
 "nbformat": 4,
 "nbformat_minor": 4
}
